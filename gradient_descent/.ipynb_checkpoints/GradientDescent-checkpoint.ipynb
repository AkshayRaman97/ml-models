{
 "cells": [
  {
   "cell_type": "code",
   "execution_count": 1,
   "metadata": {},
   "outputs": [],
   "source": [
    "# Importing Libraries\n",
    "import csv\n",
    "import numpy as np\n",
    "import matplotlib.pyplot as plt"
   ]
  },
  {
   "cell_type": "code",
   "execution_count": 2,
   "metadata": {},
   "outputs": [],
   "source": [
    "# Reading dataset\n",
    "dataset = []\n",
    "with open('data.csv', 'r') as csvfile:\n",
    "    file_reader = csv.reader(csvfile,delimiter = ',')\n",
    "    for row in file_reader:\n",
    "        dataset.append([float(row[0]),float(row[1])])\n",
    "# Converting to numpy array\n",
    "dataset = np.asarray(dataset)"
   ]
  },
  {
   "cell_type": "code",
   "execution_count": 6,
   "metadata": {},
   "outputs": [
    {
     "data": {
      "text/plain": [
       "array([[32.50234527, 31.70700585],\n",
       "       [53.42680403, 68.77759598],\n",
       "       [61.53035803, 62.5623823 ],\n",
       "       [47.47563963, 71.54663223],\n",
       "       [59.81320787, 87.23092513]])"
      ]
     },
     "execution_count": 6,
     "metadata": {},
     "output_type": "execute_result"
    }
   ],
   "source": [
    "dataset[0:5]"
   ]
  },
  {
   "cell_type": "code",
   "execution_count": 8,
   "metadata": {},
   "outputs": [],
   "source": [
    "# Seperating dependent and independent variables\n",
    "biking_distance = dataset[:,0]\n",
    "calories_burnt = dataset[:,1]"
   ]
  },
  {
   "cell_type": "code",
   "execution_count": 9,
   "metadata": {},
   "outputs": [],
   "source": [
    "# Function to compute Sum of Squares Error (SSE)\n",
    "def compute_error_for_line(b, m, points):\n",
    "    total_error = 0\n",
    "    for point in points:\n",
    "        x, actual_y = point[0], point[1]\n",
    "        # print(x,actual_y)\n",
    "        calculated_y = m*x + b\n",
    "        total_error += (actual_y - calculated_y) ** 2\n",
    "    return total_error/float(len(points))"
   ]
  },
  {
   "cell_type": "code",
   "execution_count": 10,
   "metadata": {},
   "outputs": [],
   "source": [
    "# Function to modify slope and y-intercept to minimize error\n",
    "def step_gradient(b_current, m_current,learning_rate, points):\n",
    "    N = float(len(points))\n",
    "    b_gradient = 0\n",
    "    m_gradient = 0\n",
    "    for point in points:\n",
    "        x, y = point[0], point[1]\n",
    "        b_gradient += -(2/N) * (y - ((m_current * x) + b_current))\n",
    "        m_gradient += -(2/N) * x * (y - ((m_current * x) + b_current))\n",
    "    b_new = b_current - (learning_rate * b_gradient)\n",
    "    m_new = m_current - (learning_rate * m_gradient)\n",
    "    return b_new, m_new"
   ]
  },
  {
   "cell_type": "code",
   "execution_count": 25,
   "metadata": {},
   "outputs": [],
   "source": [
    "# Function to run gradient descent for given number of iterations\n",
    "def run(b_initial, m_initial, learning_rate, num_iterations):\n",
    "    b = b_initial\n",
    "    m = m_initial\n",
    "    for i in range(0, num_iterations):\n",
    "        b, m = step_gradient(b, m, learning_rate, dataset)\n",
    "        error = compute_error_for_line(b, m, dataset)\n",
    "#         print(\"After {0} iterations b = {1}, m = {2}, error = {3}\".format(i+1, b, m, error))\n",
    "    return b,m"
   ]
  },
  {
   "cell_type": "code",
   "execution_count": 26,
   "metadata": {},
   "outputs": [],
   "source": [
    "# Run gradient descent\n",
    "b,m = run(b_initial = 0, m_initial = 0, learning_rate = 0.0001, num_iterations = 1000)"
   ]
  },
  {
   "cell_type": "code",
   "execution_count": 27,
   "metadata": {},
   "outputs": [
    {
     "data": {
      "image/png": "[encoded data removed]",
      "text/plain": [
       "<Figure size 432x288 with 1 Axes>"
      ]
     },
     "metadata": {},
     "output_type": "display_data"
    }
   ],
   "source": [
    "# Plotting results\n",
    "x = np.arange(0,max(biking_distance),step = 0.01)\n",
    "plt.xlabel('Biking Distance')\n",
    "plt.ylabel('Calories Burnt')\n",
    "plt.xticks(np.arange(0,max(biking_distance) + 20,step=5))\n",
    "plt.yticks(np.arange(0,max(calories_burnt) + 20,step=10))\n",
    "plt.title('Gradient Descent')\n",
    "plt.scatter(x = biking_distance, y = calories_burnt)\n",
    "plt.plot(x,m*x + b, c = \"red\")\n",
    "plt.show()"
   ]
  },
  {
   "cell_type": "code",
   "execution_count": null,
   "metadata": {},
   "outputs": [],
   "source": []
  }
 ],
 "metadata": {
  "kernelspec": {
   "display_name": "Python 3",
   "language": "python",
   "name": "python3"
  },
  "language_info": {
   "codemirror_mode": {
    "name": "ipython",
    "version": 3
   },
   "file_extension": ".py",
   "mimetype": "text/x-python",
   "name": "python",
   "nbconvert_exporter": "python",
   "pygments_lexer": "ipython3",
   "version": "3.6.3"
  }
 },
 "nbformat": 4,
 "nbformat_minor": 2
}
